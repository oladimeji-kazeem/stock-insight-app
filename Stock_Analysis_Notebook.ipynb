{
 "cells": [
  {
   "cell_type": "markdown",
   "id": "e954f9b7",
   "metadata": {},
   "source": [
    "# Stock Price Analysis and Prediction with GenAI"
   ]
  },
  {
   "cell_type": "markdown",
   "id": "27ec4afc",
   "metadata": {},
   "source": [
    "## Step 1: Import Libraries\n",
    "We begin by importing required libraries for data fetching, processing, visualization, and NLP tasks."
   ]
  },
  {
   "cell_type": "code",
   "execution_count": null,
   "id": "2d5a750c",
   "metadata": {},
   "outputs": [],
   "source": [
    "import yfinance as yf\n",
    "import pandas as pd\n",
    "import matplotlib.pyplot as plt\n",
    "import seaborn as sns\n",
    "import requests\n",
    "import re\n",
    "from transformers import pipeline"
   ]
  },
  {
   "cell_type": "code",
   "execution_count": null,
   "id": "20993c4f",
   "metadata": {},
   "outputs": [],
   "source": [
    "sns.set(style='whitegrid')"
   ]
  },
  {
   "cell_type": "markdown",
   "id": "1eea0c25",
   "metadata": {},
   "source": [
    "## Step 2: Download Historical Stock Data\n",
    "We download 1 year of daily data for a specified stock ticker."
   ]
  },
  {
   "cell_type": "code",
   "execution_count": null,
   "id": "d58d23d3",
   "metadata": {},
   "outputs": [],
   "source": [
    "ticker = 'AAPL'\n",
    "stock_data = yf.download(ticker, period='1y', interval='1d')\n",
    "stock_data = stock_data.reset_index()\n",
    "stock_data.columns = [str(col) for col in stock_data.columns]  # Ensure string columns"
   ]
  },
  {
   "cell_type": "markdown",
   "id": "6ce137b4",
   "metadata": {},
   "source": [
    "## Step 3: Visualize Stock Price\n",
    "Plot the closing price over time."
   ]
  },
  {
   "cell_type": "code",
   "execution_count": null,
   "id": "731498cd",
   "metadata": {},
   "outputs": [],
   "source": [
    "plt.figure(figsize=(12, 6))\n",
    "plt.plot(stock_data['Date'], stock_data['Close'], label='Close Price')\n",
    "plt.title(f'{ticker} Stock Closing Price')\n",
    "plt.xlabel('Date')\n",
    "plt.ylabel('Price (USD)')\n",
    "plt.legend()\n",
    "plt.show()"
   ]
  },
  {
   "cell_type": "markdown",
   "id": "dfb71f86",
   "metadata": {},
   "source": [
    "## Step 4: Generate Market Summary using GenAI\n",
    "Using Hugging Face Transformers pipeline for summarizing financial headlines."
   ]
  },
  {
   "cell_type": "code",
   "execution_count": null,
   "id": "77a98da2",
   "metadata": {},
   "outputs": [],
   "source": [
    "# Sample text (in practice, pull from financial news API)\n",
    "sample_text = '''Apple Inc. reported record revenue in the latest quarter amid strong iPhone sales and growing services demand.'''"
   ]
  },
  {
   "cell_type": "code",
   "execution_count": null,
   "id": "e8c9d317",
   "metadata": {},
   "outputs": [],
   "source": [
    "summarizer = pipeline('summarization')\n",
    "summary = summarizer(sample_text, max_length=50, min_length=10, do_sample=False)\n",
    "print('Summary:', summary[0]['summary_text'])"
   ]
  },
  {
   "cell_type": "markdown",
   "id": "63c64423",
   "metadata": {},
   "source": [
    "## Step 5: Add Predictive Model (Linear Regression Example)\n",
    "Build a simple model to predict the next day's closing price based on historical data."
   ]
  },
  {
   "cell_type": "code",
   "execution_count": null,
   "id": "5ce5f877",
   "metadata": {},
   "outputs": [],
   "source": [
    "from sklearn.linear_model import LinearRegression\n",
    "import numpy as np\n",
    "\n",
    "# Create features: date as ordinal\n",
    "stock_data['Date_ordinal'] = pd.to_datetime(stock_data['Date']).map(pd.Timestamp.toordinal)\n",
    "X = stock_data[['Date_ordinal']]\n",
    "y = stock_data['Close']\n",
    "\n",
    "model = LinearRegression()\n",
    "model.fit(X, y)\n",
    "\n",
    "# Predict next day\n",
    "next_day = pd.to_datetime(stock_data['Date'].max()) + pd.Timedelta(days=1)\n",
    "next_day_ordinal = np.array([[next_day.toordinal()]])\n",
    "predicted_price = model.predict(next_day_ordinal)\n",
    "print(f'Predicted close price for {next_day.date()}: ${predicted_price[0]:.2f}')"
   ]
  },
  {
   "cell_type": "markdown",
   "id": "07f76cb5",
   "metadata": {},
   "source": [
    "## Step 6: Summary and Insights"
   ]
  },
  {
   "cell_type": "code",
   "execution_count": null,
   "id": "e0846867",
   "metadata": {},
   "outputs": [],
   "source": [
    "print(f'Last Date in Data: {stock_data.Date.max()}')\n",
    "print(f'Average Close Price: {stock_data.Close.mean():.2f}')\n",
    "print(f'Highest Close Price: {stock_data.Close.max():.2f}')\n",
    "print(f'Lowest Close Price: {stock_data.Close.min():.2f}')"
   ]
  }
 ],
 "metadata": {
  "accelerator": "GPU",
  "colab": {
   "gpuType": "T4",
   "provenance": []
  },
  "kernelspec": {
   "display_name": "Python 3",
   "name": "python3"
  },
  "language_info": {
   "codemirror_mode": {
    "name": "ipython",
    "version": 3
   },
   "file_extension": ".py",
   "mimetype": "text/x-python",
   "name": "python",
   "nbconvert_exporter": "python",
   "pygments_lexer": "ipython3",
   "version": "3.11.7"
  }
 },
 "nbformat": 4,
 "nbformat_minor": 5
}
